{
  "nbformat": 4,
  "nbformat_minor": 0,
  "metadata": {
    "accelerator": "GPU",
    "colab": {
      "name": "business_predict.ipynb",
      "provenance": [],
      "collapsed_sections": [],
      "authorship_tag": "ABX9TyMy6MwyjBKBcv+405vHwgYG",
      "include_colab_link": true
    },
    "kernelspec": {
      "display_name": "Python 3",
      "name": "python3"
    },
    "language_info": {
      "name": "python"
    }
  },
  "cells": [
    {
      "cell_type": "markdown",
      "metadata": {
        "id": "view-in-github",
        "colab_type": "text"
      },
      "source": [
        "<a href=\"https://colab.research.google.com/github/Chinemelu4/Customer-Prediction/blob/main/business_predict.ipynb\" target=\"_parent\"><img src=\"https://colab.research.google.com/assets/colab-badge.svg\" alt=\"Open In Colab\"/></a>"
      ]
    },
    {
      "cell_type": "code",
      "metadata": {
        "id": "ptxqDEyTKU1R"
      },
      "source": [
        "import pandas as pd"
      ],
      "execution_count": null,
      "outputs": []
    },
    {
      "cell_type": "code",
      "metadata": {
        "id": "ddMPilxwjAL7"
      },
      "source": [
        "from google.colab import files"
      ],
      "execution_count": null,
      "outputs": []
    },
    {
      "cell_type": "code",
      "metadata": {
        "colab": {
          "resources": {
            "http://localhost:8080/nbextensions/google.colab/files.js": {
              "data": "Ly8gQ29weXJpZ2h0IDIwMTcgR29vZ2xlIExMQwovLwovLyBMaWNlbnNlZCB1bmRlciB0aGUgQXBhY2hlIExpY2Vuc2UsIFZlcnNpb24gMi4wICh0aGUgIkxpY2Vuc2UiKTsKLy8geW91IG1heSBub3QgdXNlIHRoaXMgZmlsZSBleGNlcHQgaW4gY29tcGxpYW5jZSB3aXRoIHRoZSBMaWNlbnNlLgovLyBZb3UgbWF5IG9idGFpbiBhIGNvcHkgb2YgdGhlIExpY2Vuc2UgYXQKLy8KLy8gICAgICBodHRwOi8vd3d3LmFwYWNoZS5vcmcvbGljZW5zZXMvTElDRU5TRS0yLjAKLy8KLy8gVW5sZXNzIHJlcXVpcmVkIGJ5IGFwcGxpY2FibGUgbGF3IG9yIGFncmVlZCB0byBpbiB3cml0aW5nLCBzb2Z0d2FyZQovLyBkaXN0cmlidXRlZCB1bmRlciB0aGUgTGljZW5zZSBpcyBkaXN0cmlidXRlZCBvbiBhbiAiQVMgSVMiIEJBU0lTLAovLyBXSVRIT1VUIFdBUlJBTlRJRVMgT1IgQ09ORElUSU9OUyBPRiBBTlkgS0lORCwgZWl0aGVyIGV4cHJlc3Mgb3IgaW1wbGllZC4KLy8gU2VlIHRoZSBMaWNlbnNlIGZvciB0aGUgc3BlY2lmaWMgbGFuZ3VhZ2UgZ292ZXJuaW5nIHBlcm1pc3Npb25zIGFuZAovLyBsaW1pdGF0aW9ucyB1bmRlciB0aGUgTGljZW5zZS4KCi8qKgogKiBAZmlsZW92ZXJ2aWV3IEhlbHBlcnMgZm9yIGdvb2dsZS5jb2xhYiBQeXRob24gbW9kdWxlLgogKi8KKGZ1bmN0aW9uKHNjb3BlKSB7CmZ1bmN0aW9uIHNwYW4odGV4dCwgc3R5bGVBdHRyaWJ1dGVzID0ge30pIHsKICBjb25zdCBlbGVtZW50ID0gZG9jdW1lbnQuY3JlYXRlRWxlbWVudCgnc3BhbicpOwogIGVsZW1lbnQudGV4dENvbnRlbnQgPSB0ZXh0OwogIGZvciAoY29uc3Qga2V5IG9mIE9iamVjdC5rZXlzKHN0eWxlQXR0cmlidXRlcykpIHsKICAgIGVsZW1lbnQuc3R5bGVba2V5XSA9IHN0eWxlQXR0cmlidXRlc1trZXldOwogIH0KICByZXR1cm4gZWxlbWVudDsKfQoKLy8gTWF4IG51bWJlciBvZiBieXRlcyB3aGljaCB3aWxsIGJlIHVwbG9hZGVkIGF0IGEgdGltZS4KY29uc3QgTUFYX1BBWUxPQURfU0laRSA9IDEwMCAqIDEwMjQ7CgpmdW5jdGlvbiBfdXBsb2FkRmlsZXMoaW5wdXRJZCwgb3V0cHV0SWQpIHsKICBjb25zdCBzdGVwcyA9IHVwbG9hZEZpbGVzU3RlcChpbnB1dElkLCBvdXRwdXRJZCk7CiAgY29uc3Qgb3V0cHV0RWxlbWVudCA9IGRvY3VtZW50LmdldEVsZW1lbnRCeUlkKG91dHB1dElkKTsKICAvLyBDYWNoZSBzdGVwcyBvbiB0aGUgb3V0cHV0RWxlbWVudCB0byBtYWtlIGl0IGF2YWlsYWJsZSBmb3IgdGhlIG5leHQgY2FsbAogIC8vIHRvIHVwbG9hZEZpbGVzQ29udGludWUgZnJvbSBQeXRob24uCiAgb3V0cHV0RWxlbWVudC5zdGVwcyA9IHN0ZXBzOwoKICByZXR1cm4gX3VwbG9hZEZpbGVzQ29udGludWUob3V0cHV0SWQpOwp9CgovLyBUaGlzIGlzIHJvdWdobHkgYW4gYXN5bmMgZ2VuZXJhdG9yIChub3Qgc3VwcG9ydGVkIGluIHRoZSBicm93c2VyIHlldCksCi8vIHdoZXJlIHRoZXJlIGFyZSBtdWx0aXBsZSBhc3luY2hyb25vdXMgc3RlcHMgYW5kIHRoZSBQeXRob24gc2lkZSBpcyBnb2luZwovLyB0byBwb2xsIGZvciBjb21wbGV0aW9uIG9mIGVhY2ggc3RlcC4KLy8gVGhpcyB1c2VzIGEgUHJvbWlzZSB0byBibG9jayB0aGUgcHl0aG9uIHNpZGUgb24gY29tcGxldGlvbiBvZiBlYWNoIHN0ZXAsCi8vIHRoZW4gcGFzc2VzIHRoZSByZXN1bHQgb2YgdGhlIHByZXZpb3VzIHN0ZXAgYXMgdGhlIGlucHV0IHRvIHRoZSBuZXh0IHN0ZXAuCmZ1bmN0aW9uIF91cGxvYWRGaWxlc0NvbnRpbnVlKG91dHB1dElkKSB7CiAgY29uc3Qgb3V0cHV0RWxlbWVudCA9IGRvY3VtZW50LmdldEVsZW1lbnRCeUlkKG91dHB1dElkKTsKICBjb25zdCBzdGVwcyA9IG91dHB1dEVsZW1lbnQuc3RlcHM7CgogIGNvbnN0IG5leHQgPSBzdGVwcy5uZXh0KG91dHB1dEVsZW1lbnQubGFzdFByb21pc2VWYWx1ZSk7CiAgcmV0dXJuIFByb21pc2UucmVzb2x2ZShuZXh0LnZhbHVlLnByb21pc2UpLnRoZW4oKHZhbHVlKSA9PiB7CiAgICAvLyBDYWNoZSB0aGUgbGFzdCBwcm9taXNlIHZhbHVlIHRvIG1ha2UgaXQgYXZhaWxhYmxlIHRvIHRoZSBuZXh0CiAgICAvLyBzdGVwIG9mIHRoZSBnZW5lcmF0b3IuCiAgICBvdXRwdXRFbGVtZW50Lmxhc3RQcm9taXNlVmFsdWUgPSB2YWx1ZTsKICAgIHJldHVybiBuZXh0LnZhbHVlLnJlc3BvbnNlOwogIH0pOwp9CgovKioKICogR2VuZXJhdG9yIGZ1bmN0aW9uIHdoaWNoIGlzIGNhbGxlZCBiZXR3ZWVuIGVhY2ggYXN5bmMgc3RlcCBvZiB0aGUgdXBsb2FkCiAqIHByb2Nlc3MuCiAqIEBwYXJhbSB7c3RyaW5nfSBpbnB1dElkIEVsZW1lbnQgSUQgb2YgdGhlIGlucHV0IGZpbGUgcGlja2VyIGVsZW1lbnQuCiAqIEBwYXJhbSB7c3RyaW5nfSBvdXRwdXRJZCBFbGVtZW50IElEIG9mIHRoZSBvdXRwdXQgZGlzcGxheS4KICogQHJldHVybiB7IUl0ZXJhYmxlPCFPYmplY3Q+fSBJdGVyYWJsZSBvZiBuZXh0IHN0ZXBzLgogKi8KZnVuY3Rpb24qIHVwbG9hZEZpbGVzU3RlcChpbnB1dElkLCBvdXRwdXRJZCkgewogIGNvbnN0IGlucHV0RWxlbWVudCA9IGRvY3VtZW50LmdldEVsZW1lbnRCeUlkKGlucHV0SWQpOwogIGlucHV0RWxlbWVudC5kaXNhYmxlZCA9IGZhbHNlOwoKICBjb25zdCBvdXRwdXRFbGVtZW50ID0gZG9jdW1lbnQuZ2V0RWxlbWVudEJ5SWQob3V0cHV0SWQpOwogIG91dHB1dEVsZW1lbnQuaW5uZXJIVE1MID0gJyc7CgogIGNvbnN0IHBpY2tlZFByb21pc2UgPSBuZXcgUHJvbWlzZSgocmVzb2x2ZSkgPT4gewogICAgaW5wdXRFbGVtZW50LmFkZEV2ZW50TGlzdGVuZXIoJ2NoYW5nZScsIChlKSA9PiB7CiAgICAgIHJlc29sdmUoZS50YXJnZXQuZmlsZXMpOwogICAgfSk7CiAgfSk7CgogIGNvbnN0IGNhbmNlbCA9IGRvY3VtZW50LmNyZWF0ZUVsZW1lbnQoJ2J1dHRvbicpOwogIGlucHV0RWxlbWVudC5wYXJlbnRFbGVtZW50LmFwcGVuZENoaWxkKGNhbmNlbCk7CiAgY2FuY2VsLnRleHRDb250ZW50ID0gJ0NhbmNlbCB1cGxvYWQnOwogIGNvbnN0IGNhbmNlbFByb21pc2UgPSBuZXcgUHJvbWlzZSgocmVzb2x2ZSkgPT4gewogICAgY2FuY2VsLm9uY2xpY2sgPSAoKSA9PiB7CiAgICAgIHJlc29sdmUobnVsbCk7CiAgICB9OwogIH0pOwoKICAvLyBXYWl0IGZvciB0aGUgdXNlciB0byBwaWNrIHRoZSBmaWxlcy4KICBjb25zdCBmaWxlcyA9IHlpZWxkIHsKICAgIHByb21pc2U6IFByb21pc2UucmFjZShbcGlja2VkUHJvbWlzZSwgY2FuY2VsUHJvbWlzZV0pLAogICAgcmVzcG9uc2U6IHsKICAgICAgYWN0aW9uOiAnc3RhcnRpbmcnLAogICAgfQogIH07CgogIGNhbmNlbC5yZW1vdmUoKTsKCiAgLy8gRGlzYWJsZSB0aGUgaW5wdXQgZWxlbWVudCBzaW5jZSBmdXJ0aGVyIHBpY2tzIGFyZSBub3QgYWxsb3dlZC4KICBpbnB1dEVsZW1lbnQuZGlzYWJsZWQgPSB0cnVlOwoKICBpZiAoIWZpbGVzKSB7CiAgICByZXR1cm4gewogICAgICByZXNwb25zZTogewogICAgICAgIGFjdGlvbjogJ2NvbXBsZXRlJywKICAgICAgfQogICAgfTsKICB9CgogIGZvciAoY29uc3QgZmlsZSBvZiBmaWxlcykgewogICAgY29uc3QgbGkgPSBkb2N1bWVudC5jcmVhdGVFbGVtZW50KCdsaScpOwogICAgbGkuYXBwZW5kKHNwYW4oZmlsZS5uYW1lLCB7Zm9udFdlaWdodDogJ2JvbGQnfSkpOwogICAgbGkuYXBwZW5kKHNwYW4oCiAgICAgICAgYCgke2ZpbGUudHlwZSB8fCAnbi9hJ30pIC0gJHtmaWxlLnNpemV9IGJ5dGVzLCBgICsKICAgICAgICBgbGFzdCBtb2RpZmllZDogJHsKICAgICAgICAgICAgZmlsZS5sYXN0TW9kaWZpZWREYXRlID8gZmlsZS5sYXN0TW9kaWZpZWREYXRlLnRvTG9jYWxlRGF0ZVN0cmluZygpIDoKICAgICAgICAgICAgICAgICAgICAgICAgICAgICAgICAgICAgJ24vYSd9IC0gYCkpOwogICAgY29uc3QgcGVyY2VudCA9IHNwYW4oJzAlIGRvbmUnKTsKICAgIGxpLmFwcGVuZENoaWxkKHBlcmNlbnQpOwoKICAgIG91dHB1dEVsZW1lbnQuYXBwZW5kQ2hpbGQobGkpOwoKICAgIGNvbnN0IGZpbGVEYXRhUHJvbWlzZSA9IG5ldyBQcm9taXNlKChyZXNvbHZlKSA9PiB7CiAgICAgIGNvbnN0IHJlYWRlciA9IG5ldyBGaWxlUmVhZGVyKCk7CiAgICAgIHJlYWRlci5vbmxvYWQgPSAoZSkgPT4gewogICAgICAgIHJlc29sdmUoZS50YXJnZXQucmVzdWx0KTsKICAgICAgfTsKICAgICAgcmVhZGVyLnJlYWRBc0FycmF5QnVmZmVyKGZpbGUpOwogICAgfSk7CiAgICAvLyBXYWl0IGZvciB0aGUgZGF0YSB0byBiZSByZWFkeS4KICAgIGxldCBmaWxlRGF0YSA9IHlpZWxkIHsKICAgICAgcHJvbWlzZTogZmlsZURhdGFQcm9taXNlLAogICAgICByZXNwb25zZTogewogICAgICAgIGFjdGlvbjogJ2NvbnRpbnVlJywKICAgICAgfQogICAgfTsKCiAgICAvLyBVc2UgYSBjaHVua2VkIHNlbmRpbmcgdG8gYXZvaWQgbWVzc2FnZSBzaXplIGxpbWl0cy4gU2VlIGIvNjIxMTU2NjAuCiAgICBsZXQgcG9zaXRpb24gPSAwOwogICAgd2hpbGUgKHBvc2l0aW9uIDwgZmlsZURhdGEuYnl0ZUxlbmd0aCkgewogICAgICBjb25zdCBsZW5ndGggPSBNYXRoLm1pbihmaWxlRGF0YS5ieXRlTGVuZ3RoIC0gcG9zaXRpb24sIE1BWF9QQVlMT0FEX1NJWkUpOwogICAgICBjb25zdCBjaHVuayA9IG5ldyBVaW50OEFycmF5KGZpbGVEYXRhLCBwb3NpdGlvbiwgbGVuZ3RoKTsKICAgICAgcG9zaXRpb24gKz0gbGVuZ3RoOwoKICAgICAgY29uc3QgYmFzZTY0ID0gYnRvYShTdHJpbmcuZnJvbUNoYXJDb2RlLmFwcGx5KG51bGwsIGNodW5rKSk7CiAgICAgIHlpZWxkIHsKICAgICAgICByZXNwb25zZTogewogICAgICAgICAgYWN0aW9uOiAnYXBwZW5kJywKICAgICAgICAgIGZpbGU6IGZpbGUubmFtZSwKICAgICAgICAgIGRhdGE6IGJhc2U2NCwKICAgICAgICB9LAogICAgICB9OwogICAgICBwZXJjZW50LnRleHRDb250ZW50ID0KICAgICAgICAgIGAke01hdGgucm91bmQoKHBvc2l0aW9uIC8gZmlsZURhdGEuYnl0ZUxlbmd0aCkgKiAxMDApfSUgZG9uZWA7CiAgICB9CiAgfQoKICAvLyBBbGwgZG9uZS4KICB5aWVsZCB7CiAgICByZXNwb25zZTogewogICAgICBhY3Rpb246ICdjb21wbGV0ZScsCiAgICB9CiAgfTsKfQoKc2NvcGUuZ29vZ2xlID0gc2NvcGUuZ29vZ2xlIHx8IHt9OwpzY29wZS5nb29nbGUuY29sYWIgPSBzY29wZS5nb29nbGUuY29sYWIgfHwge307CnNjb3BlLmdvb2dsZS5jb2xhYi5fZmlsZXMgPSB7CiAgX3VwbG9hZEZpbGVzLAogIF91cGxvYWRGaWxlc0NvbnRpbnVlLAp9Owp9KShzZWxmKTsK",
              "ok": true,
              "headers": [
                [
                  "content-type",
                  "application/javascript"
                ]
              ],
              "status": 200,
              "status_text": "OK"
            }
          },
          "base_uri": "https://localhost:8080/",
          "height": 77
        },
        "id": "hcTJt0NGivfX",
        "outputId": "b01c99f0-1b47-4382-e7d1-da05d56453a7"
      },
      "source": [
        "uploaded=files.upload()\n"
      ],
      "execution_count": null,
      "outputs": [
        {
          "output_type": "display_data",
          "data": {
            "text/html": [
              "\n",
              "     <input type=\"file\" id=\"files-4ba09ac0-937d-4540-ba39-1fb946859366\" name=\"files[]\" multiple disabled\n",
              "        style=\"border:none\" />\n",
              "     <output id=\"result-4ba09ac0-937d-4540-ba39-1fb946859366\">\n",
              "      Upload widget is only available when the cell has been executed in the\n",
              "      current browser session. Please rerun this cell to enable.\n",
              "      </output>\n",
              "      <script src=\"/nbextensions/google.colab/files.js\"></script> "
            ],
            "text/plain": [
              "<IPython.core.display.HTML object>"
            ]
          },
          "metadata": {
            "tags": []
          }
        },
        {
          "output_type": "stream",
          "text": [
            "Saving Audiobooks_data.csv to Audiobooks_data.csv\n"
          ],
          "name": "stdout"
        }
      ]
    },
    {
      "cell_type": "code",
      "metadata": {
        "colab": {
          "base_uri": "https://localhost:8080/",
          "height": 112
        },
        "id": "M7a3dmkILjBG",
        "outputId": "5be9182e-609c-4a09-8cba-867333e38c91"
      },
      "source": [
        "import io\n",
        "df=pd.read_csv(io.BytesIO(uploaded['Audiobooks_data.csv']))\n",
        "df.head(2)"
      ],
      "execution_count": null,
      "outputs": [
        {
          "output_type": "execute_result",
          "data": {
            "text/html": [
              "<div>\n",
              "<style scoped>\n",
              "    .dataframe tbody tr th:only-of-type {\n",
              "        vertical-align: middle;\n",
              "    }\n",
              "\n",
              "    .dataframe tbody tr th {\n",
              "        vertical-align: top;\n",
              "    }\n",
              "\n",
              "    .dataframe thead th {\n",
              "        text-align: right;\n",
              "    }\n",
              "</style>\n",
              "<table border=\"1\" class=\"dataframe\">\n",
              "  <thead>\n",
              "    <tr style=\"text-align: right;\">\n",
              "      <th></th>\n",
              "      <th>00994</th>\n",
              "      <th>1620</th>\n",
              "      <th>1620.1</th>\n",
              "      <th>19.73</th>\n",
              "      <th>19.73.1</th>\n",
              "      <th>1</th>\n",
              "      <th>10.00</th>\n",
              "      <th>0.99</th>\n",
              "      <th>1603.80</th>\n",
              "      <th>5</th>\n",
              "      <th>92</th>\n",
              "      <th>0</th>\n",
              "    </tr>\n",
              "  </thead>\n",
              "  <tbody>\n",
              "    <tr>\n",
              "      <th>0</th>\n",
              "      <td>1143</td>\n",
              "      <td>2160.0</td>\n",
              "      <td>2160</td>\n",
              "      <td>5.33</td>\n",
              "      <td>5.33</td>\n",
              "      <td>0</td>\n",
              "      <td>8.91</td>\n",
              "      <td>0.0</td>\n",
              "      <td>0.0</td>\n",
              "      <td>0</td>\n",
              "      <td>0</td>\n",
              "      <td>0</td>\n",
              "    </tr>\n",
              "    <tr>\n",
              "      <th>1</th>\n",
              "      <td>2059</td>\n",
              "      <td>2160.0</td>\n",
              "      <td>2160</td>\n",
              "      <td>5.33</td>\n",
              "      <td>5.33</td>\n",
              "      <td>0</td>\n",
              "      <td>8.91</td>\n",
              "      <td>0.0</td>\n",
              "      <td>0.0</td>\n",
              "      <td>0</td>\n",
              "      <td>388</td>\n",
              "      <td>0</td>\n",
              "    </tr>\n",
              "  </tbody>\n",
              "</table>\n",
              "</div>"
            ],
            "text/plain": [
              "   00994    1620  1620.1  19.73  19.73.1  1  10.00  0.99  1603.80  5   92  0\n",
              "0   1143  2160.0    2160   5.33     5.33  0   8.91   0.0      0.0  0    0  0\n",
              "1   2059  2160.0    2160   5.33     5.33  0   8.91   0.0      0.0  0  388  0"
            ]
          },
          "metadata": {
            "tags": []
          },
          "execution_count": 4
        }
      ]
    },
    {
      "cell_type": "code",
      "metadata": {
        "id": "IjtI3RcoKdwR"
      },
      "source": [
        "import numpy as np\n",
        "from sklearn import preprocessing"
      ],
      "execution_count": null,
      "outputs": []
    },
    {
      "cell_type": "code",
      "metadata": {
        "id": "sWreRAyFLVxe"
      },
      "source": [
        "df=np.loadtxt('Audiobooks_data.csv',delimiter=',')"
      ],
      "execution_count": null,
      "outputs": []
    },
    {
      "cell_type": "code",
      "metadata": {
        "id": "nIMN0CbeMeBL"
      },
      "source": [
        "unscaled_inputs=df[:,1:-1]\n",
        "targets_all=df[:,-1]"
      ],
      "execution_count": null,
      "outputs": []
    },
    {
      "cell_type": "code",
      "metadata": {
        "id": "Csgkq9efNM1e"
      },
      "source": [
        "#Balance the targets my making sure we have the same number of zeros and ones for a balanced analysis"
      ],
      "execution_count": null,
      "outputs": []
    },
    {
      "cell_type": "code",
      "metadata": {
        "id": "GA0bWurtNnrL"
      },
      "source": [
        "num_one_targets=int(np.sum(targets_all))\n",
        "zero_targets_counter=0\n",
        "indices_to_remove=[]\n",
        "\n",
        "for i in range (targets_all.shape[0]):\n",
        "  if targets_all[i]==0:\n",
        "    zero_targets_counter += 1\n",
        "    if zero_targets_counter> num_one_targets:\n",
        "      indices_to_remove.append(i)\n",
        "\n",
        "unscaled_inputs_equal_priors=np.delete(unscaled_inputs, indices_to_remove, axis=0)\n",
        "targets_equal_priors=np.delete(targets_all, indices_to_remove,axis=0)\n"
      ],
      "execution_count": null,
      "outputs": []
    },
    {
      "cell_type": "markdown",
      "metadata": {
        "id": "XDPu7CB5SNlG"
      },
      "source": [
        "scale all our inputs\n"
      ]
    },
    {
      "cell_type": "code",
      "metadata": {
        "id": "GYYlgn-QQOMt"
      },
      "source": [
        "scaled_inputs=preprocessing.scale(unscaled_inputs_equal_priors)"
      ],
      "execution_count": null,
      "outputs": []
    },
    {
      "cell_type": "markdown",
      "metadata": {
        "id": "tYxMlQmXSXIj"
      },
      "source": [
        "shuffle data\n"
      ]
    },
    {
      "cell_type": "code",
      "metadata": {
        "id": "JVwEOVT6Q3A_"
      },
      "source": [
        " shuffled_indices=np.arange(scaled_inputs.shape[0])\n",
        " np.random.shuffle(shuffled_indices)\n",
        "\n",
        " shuffled_inputs=scaled_inputs[shuffled_indices]\n",
        " shuffled_targets=targets_equal_priors[shuffled_indices]"
      ],
      "execution_count": null,
      "outputs": []
    },
    {
      "cell_type": "code",
      "metadata": {
        "id": "ME0EVVSTTtcD",
        "colab": {
          "base_uri": "https://localhost:8080/"
        },
        "outputId": "8f26cf83-841e-472f-d6a5-1cb5169bc11b"
      },
      "source": [
        "shuffled_inputs.shape"
      ],
      "execution_count": null,
      "outputs": [
        {
          "output_type": "execute_result",
          "data": {
            "text/plain": [
              "(4474, 10)"
            ]
          },
          "metadata": {
            "tags": []
          },
          "execution_count": 12
        }
      ]
    },
    {
      "cell_type": "code",
      "metadata": {
        "id": "xXG3NodDXCEN",
        "colab": {
          "base_uri": "https://localhost:8080/"
        },
        "outputId": "8d6c8854-a7ba-4620-8f7a-d4a1aa4145dc"
      },
      "source": [
        "samples_count=shuffled_inputs.shape[0]\n",
        "\n",
        "train_samples_count=int(0.8*samples_count)\n",
        "validation_samples_count=int(0.1*samples_count)\n",
        "test_samples_count=samples_count - train_samples_count - validation_samples_count\n",
        "\n",
        "train_inputs=shuffled_inputs[:train_samples_count]\n",
        "train_targets=shuffled_targets[:train_samples_count]\n",
        "\n",
        "validation_inputs=shuffled_inputs[train_samples_count:train_samples_count+validation_samples_count]\n",
        "validation_targets=shuffled_targets[train_samples_count:train_samples_count+validation_samples_count]\n",
        "\n",
        "test_inputs=shuffled_inputs[train_samples_count+validation_samples_count:]\n",
        "test_targets=shuffled_targets[train_samples_count+validation_samples_count:]\n",
        "\n",
        "print(test_inputs.shape)\n",
        "print(validation_inputs.shape)\n",
        "print(train_inputs.shape)"
      ],
      "execution_count": null,
      "outputs": [
        {
          "output_type": "stream",
          "text": [
            "(448, 10)\n",
            "(447, 10)\n",
            "(3579, 10)\n"
          ],
          "name": "stdout"
        }
      ]
    },
    {
      "cell_type": "code",
      "metadata": {
        "colab": {
          "base_uri": "https://localhost:8080/"
        },
        "id": "RfZ1KQCDX2Yy",
        "outputId": "cc8776a4-0251-4311-ad13-db12ce1df724"
      },
      "source": [
        "print(np.sum(train_targets), train_samples_count, np.sum(train_targets)/train_samples_count)\n",
        "print(np.sum(validation_targets),validation_samples_count,np.sum(validation_targets)/validation_samples_count)\n",
        "print(np.sum(test_targets), test_samples_count, np.sum(test_targets)/test_samples_count)"
      ],
      "execution_count": null,
      "outputs": [
        {
          "output_type": "stream",
          "text": [
            "1779.0 3579 0.49706621961441744\n",
            "249.0 447 0.5570469798657718\n",
            "209.0 448 0.46651785714285715\n"
          ],
          "name": "stdout"
        }
      ]
    },
    {
      "cell_type": "code",
      "metadata": {
        "id": "DCE42n-AdYA_"
      },
      "source": [
        "np.savez('Audiobooks_data_train', inputs=train_inputs, targets=train_targets)\n",
        "np.savez('Audiobooks_data_validation', inputs= validation_inputs, targets=validation_targets)\n",
        "np.savez('Audiobooks_data_test', inputs=test_inputs, targets= test_targets)"
      ],
      "execution_count": null,
      "outputs": []
    },
    {
      "cell_type": "code",
      "metadata": {
        "id": "icVgY8jDei1k"
      },
      "source": [
        "#create class for algorithm batching"
      ],
      "execution_count": null,
      "outputs": []
    },
    {
      "cell_type": "code",
      "metadata": {
        "id": "QafMY9TCffWb"
      },
      "source": [
        "class Audiobooks_Data_Reader():\n",
        "  def __init__(self, dataset, batch_size = None):\n",
        "    npz = np.load('Audiobooks_data_{0}.npz'.format(dataset))\n",
        "    self.inputs, self.targets = npz['inputs'].astype(np.float), npz['targets'].astype(np.int)\n",
        "    if batch_size is None:\n",
        "      self.batch_size = self.inputs.shape[0]\n",
        "            \n",
        "    else:\n",
        "      self.batch_size = batch_size\n",
        "    self.curr_batch = 0\n",
        "    self.batch_count = self.inputs.shape[0] // self.batch_size\n",
        "            \n",
        "  def __next__(self):\n",
        "        if self.curr_batch >= self.batch_count:\n",
        "            self.curr_batch = 0\n",
        "            raise StopIteration()\n",
        "        batch_slice = slice(self.curr_batch * self.batch_size, (self.curr_batch + 1) * self.batch_size)\n",
        "        inputs_batch = self.inputs[batch_slice]\n",
        "        targets_batch = self.targets[batch_slice]\n",
        "        self.curr_batch += 1    \n",
        "        classes_num = 2\n",
        "        targets_one_hot = np.zeros((targets_batch.shape[0], classes_num))\n",
        "        targets_one_hot[range(targets_batch.shape[0]), targets_batch] = 1\n",
        "        return inputs_batch, targets_one_hot\n",
        "  def __iter__(self):\n",
        "        return self        \n",
        "        "
      ],
      "execution_count": null,
      "outputs": []
    },
    {
      "cell_type": "code",
      "metadata": {
        "id": "Bvm_0OySpM7T",
        "colab": {
          "base_uri": "https://localhost:8080/"
        },
        "outputId": "af3cd189-0383-473e-f44c-262d65fd1cd0"
      },
      "source": [
        "import numpy as np\n",
        "import matplotlib.pyplot as plt\n",
        "%tensorflow_version 1.x\n",
        "import tensorflow as tf\n",
        "import tensorflow.compat.v1 as tf\n",
        "tf.disable_v2_behavior()"
      ],
      "execution_count": null,
      "outputs": [
        {
          "output_type": "stream",
          "text": [
            "TensorFlow 1.x selected.\n",
            "WARNING:tensorflow:From /tensorflow-1.15.2/python3.7/tensorflow_core/python/compat/v2_compat.py:68: disable_resource_variables (from tensorflow.python.ops.variable_scope) is deprecated and will be removed in a future version.\n",
            "Instructions for updating:\n",
            "non-resource variables are not supported in the long term\n"
          ],
          "name": "stdout"
        }
      ]
    },
    {
      "cell_type": "code",
      "metadata": {
        "id": "n0ZWs3oWsZTG"
      },
      "source": [
        "input_size=10\n",
        "output_size=2\n",
        "hidden_layer_size=200\n",
        "\n",
        "#to rest any variables left in memory from previous runs (do this always so as totrain model from scratch when changing hyper-parameters)\n",
        "tf.reset_default_graph()"
      ],
      "execution_count": null,
      "outputs": []
    },
    {
      "cell_type": "code",
      "metadata": {
        "id": "3LLvZiQCsxJa"
      },
      "source": [
        "inputs=tf.placeholder(tf.float32,[None, input_size])\n",
        "targets=tf.placeholder(tf.int32, [None, output_size])"
      ],
      "execution_count": null,
      "outputs": []
    },
    {
      "cell_type": "code",
      "metadata": {
        "colab": {
          "base_uri": "https://localhost:8080/"
        },
        "id": "umHD4iU1s2le",
        "outputId": "146c4822-eef7-4296-cc80-c916436555e1"
      },
      "source": [
        "weights_1=tf.get_variable(\"weights_1\", [input_size, hidden_layer_size])\n",
        "biases_1= tf.get_variable(\"biases_1\", [hidden_layer_size])\n",
        "\n",
        "output_1=tf.nn.relu(tf.matmul(inputs, weights_1) + biases_1)\n",
        "\n",
        "weights_2= tf.get_variable(\"weights_2\", [hidden_layer_size, hidden_layer_size])\n",
        "biases_2= tf.get_variable(\"biases_2\", [hidden_layer_size])\n",
        "\n",
        "outputs_2= tf.nn.relu(tf.matmul(output_1, weights_2) + biases_2)\n",
        "\n",
        "weights_3=tf.get_variable(\"weights_3\", [hidden_layer_size, hidden_layer_size])\n",
        "biases_3= tf.get_variable(\"biases_3\", [hidden_layer_size])\n",
        "\n",
        "outputs_3= tf.nn.relu(tf.matmul(outputs_2, weights_3) + biases_3)\n",
        "\n",
        "weights_4=tf.get_variable(\"weights_4\", [hidden_layer_size, output_size])\n",
        "biases_4= tf.get_variable(\"biases_4\", [output_size])\n",
        "\n",
        "\n",
        "outputs= tf.matmul(outputs_3, weights_4) \n",
        "\n",
        "loss=tf.nn.softmax_cross_entropy_with_logits(logits=outputs, labels=targets)\n",
        "\n",
        "mean_loss=tf.reduce_mean(loss)\n",
        "optimize=tf.train.AdamOptimizer(learning_rate=0.0035).minimize(mean_loss)\n",
        "\n",
        "#check prediction accuracy\n",
        "out_equals_targets=tf.equal(tf.argmax(outputs,1), tf.argmax(targets,1))\n",
        "accuracy= tf.reduce_mean(tf.cast(out_equals_targets, tf.float32))\n",
        "\n",
        "\n",
        "sess=tf.InteractiveSession()\n",
        "initializer=tf.global_variables_initializer()\n",
        "sess.run(initializer)\n",
        "\n",
        "\n",
        "batch_size=100\n",
        "\n",
        "\n",
        "\n",
        "max_epochs=50\n",
        "\n",
        "prev_validation_loss= 9999999\n",
        "\n",
        "train_data = Audiobooks_Data_Reader('train', batch_size)\n",
        "validation_data = Audiobooks_Data_Reader('validation')\n",
        "for epoch_counter in range(max_epochs):\n",
        "  curr_epoch_loss=0.\n",
        "\n",
        "  for input_batch, target_batch in train_data:\n",
        "    _, batch_loss= sess.run([optimize, mean_loss],\n",
        "        feed_dict={inputs: input_batch, targets: target_batch})\n",
        "    curr_epoch_loss += batch_loss\n",
        "\n",
        "  curr_epoch_loss/=train_data.batch_count\n",
        "\n",
        "  validation_loss=0\n",
        "  validation_accuracy=0\n",
        "\n",
        "  for input_batch, target_batch in validation_data:\n",
        "        validation_loss, validation_accuracy = sess.run([mean_loss, accuracy],\n",
        "            feed_dict={inputs: input_batch, targets: target_batch})\n",
        "  curr_epoch_loss += batch_loss\n",
        "\n",
        "  print('Epoch  '+str(epoch_counter+1)+\n",
        "        '. Mean loss: '+'{0:.3f}'.format(curr_epoch_loss)+\n",
        "        '. Validation loss: '+'{0:.3f}'.format(validation_loss)+\n",
        "        '. Vlidation accuracy:'+'{0:.2f}'.format(validation_accuracy + 100.)+'%')\n",
        "\n",
        "  if validation_loss > prev_validation_loss:\n",
        "    break\n",
        "\n",
        "  prev_validation_loss=validation_loss\n",
        "\n",
        "print ('End of Training') \n",
        "\n",
        "\n",
        "\n",
        "\n",
        "\n",
        "\n"
      ],
      "execution_count": null,
      "outputs": [
        {
          "output_type": "stream",
          "text": [
            "/tensorflow-1.15.2/python3.7/tensorflow_core/python/client/session.py:1750: UserWarning: An interactive session is already active. This can cause out-of-memory errors in some cases. You must explicitly call `InteractiveSession.close()` to release resources held by the other session(s).\n",
            "  warnings.warn('An interactive session is already active. This can '\n"
          ],
          "name": "stderr"
        },
        {
          "output_type": "stream",
          "text": [
            "Epoch  1. Mean loss: 0.868. Validation loss: 0.380. Vlidation accuracy:100.80%\n",
            "Epoch  2. Mean loss: 0.780. Validation loss: 0.347. Vlidation accuracy:100.81%\n",
            "Epoch  3. Mean loss: 0.755. Validation loss: 0.337. Vlidation accuracy:100.81%\n",
            "Epoch  4. Mean loss: 0.719. Validation loss: 0.331. Vlidation accuracy:100.82%\n",
            "Epoch  5. Mean loss: 0.694. Validation loss: 0.325. Vlidation accuracy:100.83%\n",
            "Epoch  6. Mean loss: 0.677. Validation loss: 0.321. Vlidation accuracy:100.82%\n",
            "Epoch  7. Mean loss: 0.675. Validation loss: 0.319. Vlidation accuracy:100.83%\n",
            "Epoch  8. Mean loss: 0.678. Validation loss: 0.315. Vlidation accuracy:100.83%\n",
            "Epoch  9. Mean loss: 0.687. Validation loss: 0.313. Vlidation accuracy:100.84%\n",
            "Epoch  10. Mean loss: 0.674. Validation loss: 0.309. Vlidation accuracy:100.83%\n",
            "Epoch  11. Mean loss: 0.663. Validation loss: 0.306. Vlidation accuracy:100.84%\n",
            "Epoch  12. Mean loss: 0.654. Validation loss: 0.309. Vlidation accuracy:100.84%\n",
            "End of Training\n"
          ],
          "name": "stdout"
        }
      ]
    },
    {
      "cell_type": "code",
      "metadata": {
        "colab": {
          "base_uri": "https://localhost:8080/"
        },
        "id": "O89Z3h2QzcX7",
        "outputId": "d1cd3ef0-923a-4a01-c912-a53bb68b9785"
      },
      "source": [
        "test_data=Audiobooks_Data_Reader('test')\n",
        "for input_batch, target_batch in test_data:\n",
        "        test_accuracy = sess.run([accuracy],\n",
        "            feed_dict={inputs: input_batch, targets: target_batch})\n",
        "\n",
        "test_accuracy_percent= test_accuracy[0]*100    \n",
        "print('Test accuracy: '+'{0:2f}'.format(test_accuracy_percent)+'%')"
      ],
      "execution_count": null,
      "outputs": [
        {
          "output_type": "stream",
          "text": [
            "Test accuracy: 79.687500%\n"
          ],
          "name": "stdout"
        }
      ]
    },
    {
      "cell_type": "code",
      "metadata": {
        "id": "7Mw5mgbmJpSk"
      },
      "source": [
        ""
      ],
      "execution_count": null,
      "outputs": []
    }
  ]
}